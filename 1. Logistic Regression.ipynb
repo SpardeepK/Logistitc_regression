{
 "cells": [
  {
   "cell_type": "raw",
   "metadata": {},
   "source": [
    "It is supervised machine learning algorithm.\n",
    "It is used for classification problems, and not for regression problems, still the name is logistic regression.\n",
    "The name regression is because, it also uses linear model and the classification method uses the same concept as linear regression.\n",
    "It is a probablistic algorithm.\n",
    "\n",
    "Target variable should be in  categorical form.\n",
    "\n",
    "yes/no\n",
    "spam/no spam\n",
    "0/1\n",
    "high/medium/low\n",
    "Good/Bad\n",
    "True/False"
   ]
  },
  {
   "cell_type": "markdown",
   "metadata": {},
   "source": [
    "## Types of Logistic Regression"
   ]
  },
  {
   "cell_type": "code",
   "execution_count": null,
   "metadata": {},
   "outputs": [],
   "source": [
    "1. Binary class classification\n",
    "   There are two different categories in the dependent variable.\n",
    "    yes/no\n",
    "    spam/no spam\n",
    "    0/1\n",
    "    Good/Bad\n",
    "    True/False\n",
    "    \n",
    "2. Multiclass classification:\n",
    "    There will be more than 2 categories in dependent variable\n",
    "    a. Multinominal Classification\n",
    "       banana/mango/chikoo\n",
    "        doc1/doc2/doc3\n",
    "        \n",
    "    b. Ordinal Classification   \n",
    "        low/medium/high\n",
    "        good/better/best\n",
    "        Movie ratings >> 1>>2>>3>>4>>5"
   ]
  },
  {
   "cell_type": "code",
   "execution_count": null,
   "metadata": {},
   "outputs": [],
   "source": [
    "Regression >> linear model and concept of linear regression the back end.\n",
    "Logistic >> Cost function/ loss function >> logloss function"
   ]
  },
  {
   "cell_type": "code",
   "execution_count": null,
   "metadata": {},
   "outputs": [],
   "source": [
    "LR_model.predict >> class\n",
    "LR_model.predict_proba >> it predict probability with which an observation belog to class 1 or class 2.\n",
    "List of algorithms who provides the probabilities:\n",
    "    Logistic Regression\n",
    "    Decision Tree\n",
    "    Naive Bayes Algorithm\n",
    "\n",
    "class 1          class 2     Predicted_output\n",
    "0.9                0.1          class 1\n",
    "0.4                0.6          class 2"
   ]
  },
  {
   "cell_type": "markdown",
   "metadata": {},
   "source": [
    "## Sigmoid Function"
   ]
  },
  {
   "cell_type": "raw",
   "metadata": {},
   "source": [
    "It tries to convert independent variables into an expression of probabilities that ranges in between 0 and 1 w. r. to dependent variable.\n",
    "\n",
    "1/ 1 + e^(-y)\n",
    "y = Equation of line\n",
    "e = euler's constant >> 2.718\n",
    "\n",
    "With the help of sigmoid function it converts linear line to S-shaped curve/surface which is also called as sigmoid curve."
   ]
  },
  {
   "cell_type": "code",
   "execution_count": null,
   "metadata": {},
   "outputs": [],
   "source": [
    "p(0) = 0.8, p(1) = 0.2"
   ]
  },
  {
   "cell_type": "code",
   "execution_count": null,
   "metadata": {},
   "outputs": [],
   "source": [
    "p >= 0.5 >>> 1\n",
    "p <  0.5 >>> 0\n",
    "\n",
    "p(y=1) p(y=0)\n",
    " 0.1     0.9  0\n",
    " 0.2     0.8  0\n",
    "0.4      0.6  0\n"
   ]
  },
  {
   "cell_type": "code",
   "execution_count": null,
   "metadata": {},
   "outputs": [],
   "source": [
    "Sigmoid      LL\n",
    "1            21\n",
    "2            20\n",
    "3            18\n",
    "4            15\n",
    "5            14\n",
    "6            12 >>> lowest LL\n",
    "7            14\n",
    "8            13\n",
    "9            17"
   ]
  },
  {
   "cell_type": "markdown",
   "metadata": {},
   "source": [
    "## Case 1"
   ]
  },
  {
   "cell_type": "code",
   "execution_count": null,
   "metadata": {},
   "outputs": [],
   "source": [
    "Ya = 1\n",
    "P(1)  = 0.9 >>>> correctly classified\n",
    "P(0) >> 0.1\n",
    "LL = - log(0.9)\n",
    "LL = 0.105"
   ]
  },
  {
   "cell_type": "code",
   "execution_count": 5,
   "metadata": {},
   "outputs": [
    {
     "data": {
      "text/plain": [
       "0.10536051565782628"
      ]
     },
     "execution_count": 5,
     "metadata": {},
     "output_type": "execute_result"
    }
   ],
   "source": [
    "-np.log(0.9)"
   ]
  },
  {
   "cell_type": "markdown",
   "metadata": {},
   "source": [
    "## Case 2"
   ]
  },
  {
   "cell_type": "code",
   "execution_count": null,
   "metadata": {},
   "outputs": [],
   "source": [
    "Ya = 1\n",
    "p = 0.17 >>> Incorrectly classified\n",
    "\n",
    "LL = -log(0.17)\n",
    "LL = 1.77"
   ]
  },
  {
   "cell_type": "code",
   "execution_count": 6,
   "metadata": {},
   "outputs": [
    {
     "data": {
      "text/plain": [
       "1.7719568419318752"
      ]
     },
     "execution_count": 6,
     "metadata": {},
     "output_type": "execute_result"
    }
   ],
   "source": [
    "-np.log(0.17)"
   ]
  },
  {
   "cell_type": "markdown",
   "metadata": {},
   "source": [
    "## Case 3"
   ]
  },
  {
   "cell_type": "code",
   "execution_count": null,
   "metadata": {},
   "outputs": [],
   "source": [
    "Ya = 0 \n",
    "P = 0.12  >>> Correctly classified\n",
    "\n",
    "LL = -log(1-0.12)\n",
    "LL = 0.127\n",
    "\n",
    "## We are considering w. r. to that whether the point will be in class 1 or not."
   ]
  },
  {
   "cell_type": "code",
   "execution_count": 7,
   "metadata": {},
   "outputs": [
    {
     "data": {
      "text/plain": [
       "0.12783337150988489"
      ]
     },
     "execution_count": 7,
     "metadata": {},
     "output_type": "execute_result"
    }
   ],
   "source": [
    "-np.log(0.88)"
   ]
  },
  {
   "cell_type": "code",
   "execution_count": 10,
   "metadata": {},
   "outputs": [],
   "source": [
    "# np.log(0.88) "
   ]
  },
  {
   "cell_type": "markdown",
   "metadata": {},
   "source": [
    "## Case 4"
   ]
  },
  {
   "cell_type": "code",
   "execution_count": null,
   "metadata": {},
   "outputs": [],
   "source": [
    "Ya = 0\n",
    "P = 0.77 >>> Incorrectly classified point\n",
    "\n",
    "LL = -log(1- 0.77)\n",
    "LL = 1.46"
   ]
  },
  {
   "cell_type": "code",
   "execution_count": 8,
   "metadata": {},
   "outputs": [
    {
     "data": {
      "text/plain": [
       "1.4696759700589417"
      ]
     },
     "execution_count": 8,
     "metadata": {},
     "output_type": "execute_result"
    }
   ],
   "source": [
    "-np.log(0.23)"
   ]
  },
  {
   "cell_type": "code",
   "execution_count": null,
   "metadata": {},
   "outputs": [],
   "source": []
  }
 ],
 "metadata": {
  "kernelspec": {
   "display_name": "Python 3 (ipykernel)",
   "language": "python",
   "name": "python3"
  },
  "language_info": {
   "codemirror_mode": {
    "name": "ipython",
    "version": 3
   },
   "file_extension": ".py",
   "mimetype": "text/x-python",
   "name": "python",
   "nbconvert_exporter": "python",
   "pygments_lexer": "ipython3",
   "version": "3.9.12"
  }
 },
 "nbformat": 4,
 "nbformat_minor": 4
}
