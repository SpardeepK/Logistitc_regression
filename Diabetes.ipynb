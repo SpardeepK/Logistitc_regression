{
 "cells": [
  {
   "cell_type": "code",
   "execution_count": 40,
   "id": "094aaf94",
   "metadata": {},
   "outputs": [],
   "source": [
    "import pandas as pd\n",
    "import numpy as np\n",
    "import matplotlib.pyplot as plt\n",
    "import seaborn as sns\n",
    "\n",
    "from sklearn.preprocessing import StandardScaler, MinMaxScaler\n",
    "from sklearn.model_selection import train_test_split\n",
    "\n",
    "from sklearn.linear_model import LogisticRegression\n",
    "\n",
    "from sklearn.metrics import confusion_matrix, accuracy_score,precision_score, recall_score, roc_curve,auc,f1_score\n",
    "from sklearn.metrics import classification_report\n",
    "\n",
    "\n",
    "import warnings\n",
    "warnings.filterwarnings('ignore')\n"
   ]
  },
  {
   "cell_type": "code",
   "execution_count": 41,
   "id": "96b9d272",
   "metadata": {},
   "outputs": [
    {
     "data": {
      "text/html": [
       "<div>\n",
       "<style scoped>\n",
       "    .dataframe tbody tr th:only-of-type {\n",
       "        vertical-align: middle;\n",
       "    }\n",
       "\n",
       "    .dataframe tbody tr th {\n",
       "        vertical-align: top;\n",
       "    }\n",
       "\n",
       "    .dataframe thead th {\n",
       "        text-align: right;\n",
       "    }\n",
       "</style>\n",
       "<table border=\"1\" class=\"dataframe\">\n",
       "  <thead>\n",
       "    <tr style=\"text-align: right;\">\n",
       "      <th></th>\n",
       "      <th>Glucose</th>\n",
       "      <th>BloodPressure</th>\n",
       "      <th>SkinThickness</th>\n",
       "      <th>Insulin</th>\n",
       "      <th>BMI</th>\n",
       "      <th>DiabetesPedigreeFunction</th>\n",
       "      <th>Age</th>\n",
       "      <th>Outcome</th>\n",
       "    </tr>\n",
       "  </thead>\n",
       "  <tbody>\n",
       "    <tr>\n",
       "      <th>0</th>\n",
       "      <td>148</td>\n",
       "      <td>50</td>\n",
       "      <td>35</td>\n",
       "      <td>0</td>\n",
       "      <td>33.6</td>\n",
       "      <td>0.627</td>\n",
       "      <td>50</td>\n",
       "      <td>1</td>\n",
       "    </tr>\n",
       "    <tr>\n",
       "      <th>1</th>\n",
       "      <td>85</td>\n",
       "      <td>66</td>\n",
       "      <td>29</td>\n",
       "      <td>0</td>\n",
       "      <td>26.6</td>\n",
       "      <td>0.351</td>\n",
       "      <td>31</td>\n",
       "      <td>0</td>\n",
       "    </tr>\n",
       "    <tr>\n",
       "      <th>2</th>\n",
       "      <td>183</td>\n",
       "      <td>64</td>\n",
       "      <td>0</td>\n",
       "      <td>0</td>\n",
       "      <td>23.3</td>\n",
       "      <td>0.672</td>\n",
       "      <td>52</td>\n",
       "      <td>1</td>\n",
       "    </tr>\n",
       "    <tr>\n",
       "      <th>3</th>\n",
       "      <td>150</td>\n",
       "      <td>66</td>\n",
       "      <td>23</td>\n",
       "      <td>94</td>\n",
       "      <td>28.1</td>\n",
       "      <td>0.167</td>\n",
       "      <td>21</td>\n",
       "      <td>0</td>\n",
       "    </tr>\n",
       "    <tr>\n",
       "      <th>4</th>\n",
       "      <td>150</td>\n",
       "      <td>40</td>\n",
       "      <td>35</td>\n",
       "      <td>168</td>\n",
       "      <td>43.1</td>\n",
       "      <td>2.288</td>\n",
       "      <td>33</td>\n",
       "      <td>1</td>\n",
       "    </tr>\n",
       "  </tbody>\n",
       "</table>\n",
       "</div>"
      ],
      "text/plain": [
       "   Glucose  BloodPressure  SkinThickness  Insulin   BMI  \\\n",
       "0      148             50             35        0  33.6   \n",
       "1       85             66             29        0  26.6   \n",
       "2      183             64              0        0  23.3   \n",
       "3      150             66             23       94  28.1   \n",
       "4      150             40             35      168  43.1   \n",
       "\n",
       "   DiabetesPedigreeFunction  Age  Outcome  \n",
       "0                     0.627   50        1  \n",
       "1                     0.351   31        0  \n",
       "2                     0.672   52        1  \n",
       "3                     0.167   21        0  \n",
       "4                     2.288   33        1  "
      ]
     },
     "execution_count": 41,
     "metadata": {},
     "output_type": "execute_result"
    }
   ],
   "source": [
    "df = pd.read_csv('diabetes.csv')\n",
    "df.head()"
   ]
  },
  {
   "cell_type": "code",
   "execution_count": 42,
   "id": "f65fdec8",
   "metadata": {},
   "outputs": [
    {
     "data": {
      "text/plain": [
       "(768, 8)"
      ]
     },
     "execution_count": 42,
     "metadata": {},
     "output_type": "execute_result"
    }
   ],
   "source": [
    "df.shape"
   ]
  },
  {
   "cell_type": "code",
   "execution_count": 43,
   "id": "4dd8e369",
   "metadata": {},
   "outputs": [
    {
     "data": {
      "text/plain": [
       "0    500\n",
       "1    268\n",
       "Name: Outcome, dtype: int64"
      ]
     },
     "execution_count": 43,
     "metadata": {},
     "output_type": "execute_result"
    }
   ],
   "source": [
    "df.Outcome.value_counts()"
   ]
  },
  {
   "cell_type": "code",
   "execution_count": 44,
   "id": "c1aa756a",
   "metadata": {},
   "outputs": [
    {
     "data": {
      "text/plain": [
       "0    0.651042\n",
       "1    0.348958\n",
       "Name: Outcome, dtype: float64"
      ]
     },
     "execution_count": 44,
     "metadata": {},
     "output_type": "execute_result"
    }
   ],
   "source": [
    "df.Outcome.value_counts(normalize=True)"
   ]
  },
  {
   "cell_type": "raw",
   "id": "843ea968",
   "metadata": {},
   "source": [
    "for class 0 --> 65 % records are there\n",
    "for class 1--> 34 % records are there\n",
    "so here data is imbalanced"
   ]
  },
  {
   "cell_type": "code",
   "execution_count": 45,
   "id": "32c3f4e8",
   "metadata": {},
   "outputs": [
    {
     "data": {
      "text/plain": [
       "<AxesSubplot:ylabel='Outcome'>"
      ]
     },
     "execution_count": 45,
     "metadata": {},
     "output_type": "execute_result"
    },
    {
     "data": {
      "image/png": "[encoded data removed]",
      "text/plain": [
       "<Figure size 432x288 with 1 Axes>"
      ]
     },
     "metadata": {
      "needs_background": "light"
     },
     "output_type": "display_data"
    }
   ],
   "source": [
    "sns.barplot(x=df.Outcome.value_counts().index ,y = df.Outcome.value_counts())"
   ]
  },
  {
   "cell_type": "code",
   "execution_count": 46,
   "id": "8df36284",
   "metadata": {},
   "outputs": [
    {
     "data": {
      "text/plain": [
       "Glucose                     0\n",
       "BloodPressure               0\n",
       "SkinThickness               0\n",
       "Insulin                     0\n",
       "BMI                         0\n",
       "DiabetesPedigreeFunction    0\n",
       "Age                         0\n",
       "Outcome                     0\n",
       "dtype: int64"
      ]
     },
     "execution_count": 46,
     "metadata": {},
     "output_type": "execute_result"
    }
   ],
   "source": [
    "# Checking missing value\n",
    "df.isnull().sum()"
   ]
  },
  {
   "cell_type": "code",
   "execution_count": 47,
   "id": "2db8623e",
   "metadata": {},
   "outputs": [
    {
     "data": {
      "text/html": [
       "<div>\n",
       "<style scoped>\n",
       "    .dataframe tbody tr th:only-of-type {\n",
       "        vertical-align: middle;\n",
       "    }\n",
       "\n",
       "    .dataframe tbody tr th {\n",
       "        vertical-align: top;\n",
       "    }\n",
       "\n",
       "    .dataframe thead th {\n",
       "        text-align: right;\n",
       "    }\n",
       "</style>\n",
       "<table border=\"1\" class=\"dataframe\">\n",
       "  <thead>\n",
       "    <tr style=\"text-align: right;\">\n",
       "      <th></th>\n",
       "      <th>Glucose</th>\n",
       "      <th>BloodPressure</th>\n",
       "      <th>SkinThickness</th>\n",
       "      <th>Insulin</th>\n",
       "      <th>BMI</th>\n",
       "      <th>DiabetesPedigreeFunction</th>\n",
       "      <th>Age</th>\n",
       "      <th>Outcome</th>\n",
       "    </tr>\n",
       "  </thead>\n",
       "  <tbody>\n",
       "  </tbody>\n",
       "</table>\n",
       "</div>"
      ],
      "text/plain": [
       "Empty DataFrame\n",
       "Columns: [Glucose, BloodPressure, SkinThickness, Insulin, BMI, DiabetesPedigreeFunction, Age, Outcome]\n",
       "Index: []"
      ]
     },
     "execution_count": 47,
     "metadata": {},
     "output_type": "execute_result"
    }
   ],
   "source": [
    "# Check for Duplicate records\n",
    "df[df.duplicated()]"
   ]
  },
  {
   "cell_type": "code",
   "execution_count": 48,
   "id": "0362d4a6",
   "metadata": {},
   "outputs": [
    {
     "data": {
      "text/html": [
       "<div>\n",
       "<style scoped>\n",
       "    .dataframe tbody tr th:only-of-type {\n",
       "        vertical-align: middle;\n",
       "    }\n",
       "\n",
       "    .dataframe tbody tr th {\n",
       "        vertical-align: top;\n",
       "    }\n",
       "\n",
       "    .dataframe thead th {\n",
       "        text-align: right;\n",
       "    }\n",
       "</style>\n",
       "<table border=\"1\" class=\"dataframe\">\n",
       "  <thead>\n",
       "    <tr style=\"text-align: right;\">\n",
       "      <th></th>\n",
       "      <th>Glucose</th>\n",
       "      <th>BloodPressure</th>\n",
       "      <th>SkinThickness</th>\n",
       "      <th>Insulin</th>\n",
       "      <th>BMI</th>\n",
       "      <th>DiabetesPedigreeFunction</th>\n",
       "      <th>Age</th>\n",
       "      <th>Outcome</th>\n",
       "    </tr>\n",
       "  </thead>\n",
       "  <tbody>\n",
       "    <tr>\n",
       "      <th>count</th>\n",
       "      <td>768.000000</td>\n",
       "      <td>768.000000</td>\n",
       "      <td>768.000000</td>\n",
       "      <td>768.000000</td>\n",
       "      <td>768.000000</td>\n",
       "      <td>768.000000</td>\n",
       "      <td>768.000000</td>\n",
       "      <td>768.000000</td>\n",
       "    </tr>\n",
       "    <tr>\n",
       "      <th>mean</th>\n",
       "      <td>121.117188</td>\n",
       "      <td>69.076823</td>\n",
       "      <td>20.536458</td>\n",
       "      <td>79.799479</td>\n",
       "      <td>31.992578</td>\n",
       "      <td>0.471876</td>\n",
       "      <td>33.243490</td>\n",
       "      <td>0.348958</td>\n",
       "    </tr>\n",
       "    <tr>\n",
       "      <th>std</th>\n",
       "      <td>31.805091</td>\n",
       "      <td>19.367794</td>\n",
       "      <td>15.952218</td>\n",
       "      <td>115.244002</td>\n",
       "      <td>7.884160</td>\n",
       "      <td>0.331329</td>\n",
       "      <td>11.758182</td>\n",
       "      <td>0.476951</td>\n",
       "    </tr>\n",
       "    <tr>\n",
       "      <th>min</th>\n",
       "      <td>0.000000</td>\n",
       "      <td>0.000000</td>\n",
       "      <td>0.000000</td>\n",
       "      <td>0.000000</td>\n",
       "      <td>0.000000</td>\n",
       "      <td>0.078000</td>\n",
       "      <td>21.000000</td>\n",
       "      <td>0.000000</td>\n",
       "    </tr>\n",
       "    <tr>\n",
       "      <th>25%</th>\n",
       "      <td>99.000000</td>\n",
       "      <td>62.000000</td>\n",
       "      <td>0.000000</td>\n",
       "      <td>0.000000</td>\n",
       "      <td>27.300000</td>\n",
       "      <td>0.243750</td>\n",
       "      <td>24.000000</td>\n",
       "      <td>0.000000</td>\n",
       "    </tr>\n",
       "    <tr>\n",
       "      <th>50%</th>\n",
       "      <td>117.000000</td>\n",
       "      <td>72.000000</td>\n",
       "      <td>23.000000</td>\n",
       "      <td>30.500000</td>\n",
       "      <td>32.000000</td>\n",
       "      <td>0.372500</td>\n",
       "      <td>29.000000</td>\n",
       "      <td>0.000000</td>\n",
       "    </tr>\n",
       "    <tr>\n",
       "      <th>75%</th>\n",
       "      <td>142.000000</td>\n",
       "      <td>80.000000</td>\n",
       "      <td>32.000000</td>\n",
       "      <td>127.250000</td>\n",
       "      <td>36.600000</td>\n",
       "      <td>0.626250</td>\n",
       "      <td>41.000000</td>\n",
       "      <td>1.000000</td>\n",
       "    </tr>\n",
       "    <tr>\n",
       "      <th>max</th>\n",
       "      <td>199.000000</td>\n",
       "      <td>122.000000</td>\n",
       "      <td>99.000000</td>\n",
       "      <td>846.000000</td>\n",
       "      <td>67.100000</td>\n",
       "      <td>2.420000</td>\n",
       "      <td>81.000000</td>\n",
       "      <td>1.000000</td>\n",
       "    </tr>\n",
       "  </tbody>\n",
       "</table>\n",
       "</div>"
      ],
      "text/plain": [
       "          Glucose  BloodPressure  SkinThickness     Insulin         BMI  \\\n",
       "count  768.000000     768.000000     768.000000  768.000000  768.000000   \n",
       "mean   121.117188      69.076823      20.536458   79.799479   31.992578   \n",
       "std     31.805091      19.367794      15.952218  115.244002    7.884160   \n",
       "min      0.000000       0.000000       0.000000    0.000000    0.000000   \n",
       "25%     99.000000      62.000000       0.000000    0.000000   27.300000   \n",
       "50%    117.000000      72.000000      23.000000   30.500000   32.000000   \n",
       "75%    142.000000      80.000000      32.000000  127.250000   36.600000   \n",
       "max    199.000000     122.000000      99.000000  846.000000   67.100000   \n",
       "\n",
       "       DiabetesPedigreeFunction         Age     Outcome  \n",
       "count                768.000000  768.000000  768.000000  \n",
       "mean                   0.471876   33.243490    0.348958  \n",
       "std                    0.331329   11.758182    0.476951  \n",
       "min                    0.078000   21.000000    0.000000  \n",
       "25%                    0.243750   24.000000    0.000000  \n",
       "50%                    0.372500   29.000000    0.000000  \n",
       "75%                    0.626250   41.000000    1.000000  \n",
       "max                    2.420000   81.000000    1.000000  "
      ]
     },
     "execution_count": 48,
     "metadata": {},
     "output_type": "execute_result"
    }
   ],
   "source": [
    "df.describe()"
   ]
  },
  {
   "cell_type": "code",
   "execution_count": 49,
   "id": "e38e7ea6",
   "metadata": {},
   "outputs": [
    {
     "data": {
      "text/plain": [
       "<AxesSubplot:xlabel='Glucose'>"
      ]
     },
     "execution_count": 49,
     "metadata": {},
     "output_type": "execute_result"
    },
    {
     "data": {
      "image/png": "[encoded data removed]",
      "text/plain": [
       "<Figure size 432x288 with 1 Axes>"
      ]
     },
     "metadata": {
      "needs_background": "light"
     },
     "output_type": "display_data"
    }
   ],
   "source": [
    "sns.boxplot(x= df.Glucose)"
   ]
  },
  {
   "cell_type": "code",
   "execution_count": 50,
   "id": "20785291",
   "metadata": {},
   "outputs": [
    {
     "data": {
      "text/plain": [
       "<AxesSubplot:xlabel='Glucose', ylabel='Density'>"
      ]
     },
     "execution_count": 50,
     "metadata": {},
     "output_type": "execute_result"
    },
    {
     "data": {
      "image/png": "[encoded data removed]",
      "text/plain": [
       "<Figure size 432x288 with 1 Axes>"
      ]
     },
     "metadata": {
      "needs_background": "light"
     },
     "output_type": "display_data"
    }
   ],
   "source": [
    "sns.kdeplot(x= df.Glucose)"
   ]
  },
  {
   "cell_type": "code",
   "execution_count": 51,
   "id": "2fca3e1c",
   "metadata": {},
   "outputs": [],
   "source": [
    "df.Glucose.replace(0,117, inplace=True)"
   ]
  },
  {
   "cell_type": "code",
   "execution_count": 52,
   "id": "e16b77f5",
   "metadata": {},
   "outputs": [
    {
     "data": {
      "text/plain": [
       "<AxesSubplot:xlabel='Glucose'>"
      ]
     },
     "execution_count": 52,
     "metadata": {},
     "output_type": "execute_result"
    },
    {
     "data": {
      "image/png": "[encoded data removed]",
      "text/plain": [
       "<Figure size 432x288 with 1 Axes>"
      ]
     },
     "metadata": {
      "needs_background": "light"
     },
     "output_type": "display_data"
    }
   ],
   "source": [
    "sns.boxplot(x= df.Glucose)"
   ]
  },
  {
   "cell_type": "code",
   "execution_count": 53,
   "id": "e62a5c00",
   "metadata": {},
   "outputs": [
    {
     "data": {
      "text/plain": [
       "<AxesSubplot:xlabel='Glucose', ylabel='Density'>"
      ]
     },
     "execution_count": 53,
     "metadata": {},
     "output_type": "execute_result"
    },
    {
     "data": {
      "image/png": "[encoded data removed]",
      "text/plain": [
       "<Figure size 432x288 with 1 Axes>"
      ]
     },
     "metadata": {
      "needs_background": "light"
     },
     "output_type": "display_data"
    }
   ],
   "source": [
    "sns.kdeplot(x= df.Glucose)"
   ]
  },
  {
   "cell_type": "code",
   "execution_count": 54,
   "id": "a5f6ba27",
   "metadata": {},
   "outputs": [
    {
     "data": {
      "image/png": "[encoded data removed]",
      "text/plain": [
       "<Figure size 720x576 with 1 Axes>"
      ]
     },
     "metadata": {
      "needs_background": "light"
     },
     "output_type": "display_data"
    }
   ],
   "source": [
    "plt.figure(figsize=(10,8))\n",
    "df.boxplot()\n",
    "plt.xticks(rotation='45')\n",
    "plt.show()"
   ]
  },
  {
   "cell_type": "code",
   "execution_count": 55,
   "id": "192e24e9",
   "metadata": {},
   "outputs": [
    {
     "data": {
      "text/html": [
       "<div>\n",
       "<style scoped>\n",
       "    .dataframe tbody tr th:only-of-type {\n",
       "        vertical-align: middle;\n",
       "    }\n",
       "\n",
       "    .dataframe tbody tr th {\n",
       "        vertical-align: top;\n",
       "    }\n",
       "\n",
       "    .dataframe thead th {\n",
       "        text-align: right;\n",
       "    }\n",
       "</style>\n",
       "<table border=\"1\" class=\"dataframe\">\n",
       "  <thead>\n",
       "    <tr style=\"text-align: right;\">\n",
       "      <th></th>\n",
       "      <th>Glucose</th>\n",
       "      <th>BloodPressure</th>\n",
       "      <th>SkinThickness</th>\n",
       "      <th>Insulin</th>\n",
       "      <th>BMI</th>\n",
       "      <th>DiabetesPedigreeFunction</th>\n",
       "      <th>Age</th>\n",
       "    </tr>\n",
       "  </thead>\n",
       "  <tbody>\n",
       "    <tr>\n",
       "      <th>0</th>\n",
       "      <td>148</td>\n",
       "      <td>50</td>\n",
       "      <td>35</td>\n",
       "      <td>0</td>\n",
       "      <td>33.6</td>\n",
       "      <td>0.627</td>\n",
       "      <td>50</td>\n",
       "    </tr>\n",
       "    <tr>\n",
       "      <th>1</th>\n",
       "      <td>85</td>\n",
       "      <td>66</td>\n",
       "      <td>29</td>\n",
       "      <td>0</td>\n",
       "      <td>26.6</td>\n",
       "      <td>0.351</td>\n",
       "      <td>31</td>\n",
       "    </tr>\n",
       "    <tr>\n",
       "      <th>2</th>\n",
       "      <td>183</td>\n",
       "      <td>64</td>\n",
       "      <td>0</td>\n",
       "      <td>0</td>\n",
       "      <td>23.3</td>\n",
       "      <td>0.672</td>\n",
       "      <td>52</td>\n",
       "    </tr>\n",
       "    <tr>\n",
       "      <th>3</th>\n",
       "      <td>150</td>\n",
       "      <td>66</td>\n",
       "      <td>23</td>\n",
       "      <td>94</td>\n",
       "      <td>28.1</td>\n",
       "      <td>0.167</td>\n",
       "      <td>21</td>\n",
       "    </tr>\n",
       "    <tr>\n",
       "      <th>4</th>\n",
       "      <td>150</td>\n",
       "      <td>40</td>\n",
       "      <td>35</td>\n",
       "      <td>168</td>\n",
       "      <td>43.1</td>\n",
       "      <td>2.288</td>\n",
       "      <td>33</td>\n",
       "    </tr>\n",
       "  </tbody>\n",
       "</table>\n",
       "</div>"
      ],
      "text/plain": [
       "   Glucose  BloodPressure  SkinThickness  Insulin   BMI  \\\n",
       "0      148             50             35        0  33.6   \n",
       "1       85             66             29        0  26.6   \n",
       "2      183             64              0        0  23.3   \n",
       "3      150             66             23       94  28.1   \n",
       "4      150             40             35      168  43.1   \n",
       "\n",
       "   DiabetesPedigreeFunction  Age  \n",
       "0                     0.627   50  \n",
       "1                     0.351   31  \n",
       "2                     0.672   52  \n",
       "3                     0.167   21  \n",
       "4                     2.288   33  "
      ]
     },
     "execution_count": 55,
     "metadata": {},
     "output_type": "execute_result"
    }
   ],
   "source": [
    "X = df.drop('Outcome',axis =1)\n",
    "X.head()"
   ]
  },
  {
   "cell_type": "code",
   "execution_count": 56,
   "id": "44138bd2",
   "metadata": {},
   "outputs": [
    {
     "data": {
      "text/plain": [
       "0    1\n",
       "1    0\n",
       "2    1\n",
       "3    0\n",
       "4    1\n",
       "Name: Outcome, dtype: int64"
      ]
     },
     "execution_count": 56,
     "metadata": {},
     "output_type": "execute_result"
    }
   ],
   "source": [
    "y= df['Outcome']\n",
    "y[:5]"
   ]
  },
  {
   "cell_type": "code",
   "execution_count": 57,
   "id": "d70713bf",
   "metadata": {},
   "outputs": [
    {
     "data": {
      "text/html": [
       "<div>\n",
       "<style scoped>\n",
       "    .dataframe tbody tr th:only-of-type {\n",
       "        vertical-align: middle;\n",
       "    }\n",
       "\n",
       "    .dataframe tbody tr th {\n",
       "        vertical-align: top;\n",
       "    }\n",
       "\n",
       "    .dataframe thead th {\n",
       "        text-align: right;\n",
       "    }\n",
       "</style>\n",
       "<table border=\"1\" class=\"dataframe\">\n",
       "  <thead>\n",
       "    <tr style=\"text-align: right;\">\n",
       "      <th></th>\n",
       "      <th>Glucose</th>\n",
       "      <th>BloodPressure</th>\n",
       "      <th>SkinThickness</th>\n",
       "      <th>Insulin</th>\n",
       "      <th>BMI</th>\n",
       "      <th>DiabetesPedigreeFunction</th>\n",
       "      <th>Age</th>\n",
       "    </tr>\n",
       "  </thead>\n",
       "  <tbody>\n",
       "    <tr>\n",
       "      <th>0</th>\n",
       "      <td>0.863880</td>\n",
       "      <td>-0.985618</td>\n",
       "      <td>0.907270</td>\n",
       "      <td>-0.692891</td>\n",
       "      <td>0.204013</td>\n",
       "      <td>0.468492</td>\n",
       "      <td>1.426022</td>\n",
       "    </tr>\n",
       "    <tr>\n",
       "      <th>1</th>\n",
       "      <td>-1.219664</td>\n",
       "      <td>-0.158966</td>\n",
       "      <td>0.530902</td>\n",
       "      <td>-0.692891</td>\n",
       "      <td>-0.684422</td>\n",
       "      <td>-0.365061</td>\n",
       "      <td>-0.190927</td>\n",
       "    </tr>\n",
       "    <tr>\n",
       "      <th>2</th>\n",
       "      <td>2.021404</td>\n",
       "      <td>-0.262298</td>\n",
       "      <td>-1.288212</td>\n",
       "      <td>-0.692891</td>\n",
       "      <td>-1.103255</td>\n",
       "      <td>0.604397</td>\n",
       "      <td>1.596227</td>\n",
       "    </tr>\n",
       "    <tr>\n",
       "      <th>3</th>\n",
       "      <td>0.930024</td>\n",
       "      <td>-0.158966</td>\n",
       "      <td>0.154533</td>\n",
       "      <td>0.123302</td>\n",
       "      <td>-0.494043</td>\n",
       "      <td>-0.920763</td>\n",
       "      <td>-1.041953</td>\n",
       "    </tr>\n",
       "    <tr>\n",
       "      <th>4</th>\n",
       "      <td>0.930024</td>\n",
       "      <td>-1.502276</td>\n",
       "      <td>0.907270</td>\n",
       "      <td>0.765836</td>\n",
       "      <td>1.409746</td>\n",
       "      <td>5.484909</td>\n",
       "      <td>-0.020722</td>\n",
       "    </tr>\n",
       "  </tbody>\n",
       "</table>\n",
       "</div>"
      ],
      "text/plain": [
       "    Glucose  BloodPressure  SkinThickness   Insulin       BMI  \\\n",
       "0  0.863880      -0.985618       0.907270 -0.692891  0.204013   \n",
       "1 -1.219664      -0.158966       0.530902 -0.692891 -0.684422   \n",
       "2  2.021404      -0.262298      -1.288212 -0.692891 -1.103255   \n",
       "3  0.930024      -0.158966       0.154533  0.123302 -0.494043   \n",
       "4  0.930024      -1.502276       0.907270  0.765836  1.409746   \n",
       "\n",
       "   DiabetesPedigreeFunction       Age  \n",
       "0                  0.468492  1.426022  \n",
       "1                 -0.365061 -0.190927  \n",
       "2                  0.604397  1.596227  \n",
       "3                 -0.920763 -1.041953  \n",
       "4                  5.484909 -0.020722  "
      ]
     },
     "execution_count": 57,
     "metadata": {},
     "output_type": "execute_result"
    }
   ],
   "source": [
    "# as this logistic regression is distance based, scaling is required\n",
    "scalar = StandardScaler()\n",
    "X_scaled = scalar.fit_transform(X)\n",
    "X_scaled = pd.DataFrame(X_scaled, columns=X.columns)\n",
    "X_scaled.head()"
   ]
  },
  {
   "cell_type": "code",
   "execution_count": 58,
   "id": "c867c9c3",
   "metadata": {},
   "outputs": [],
   "source": [
    " X_train, X_test, y_train, y_test = train_test_split(X_scaled, y, test_size=0.2, random_state=2)"
   ]
  },
  {
   "cell_type": "code",
   "execution_count": 59,
   "id": "e4376079",
   "metadata": {},
   "outputs": [
    {
     "data": {
      "text/plain": [
       "(154, 7)"
      ]
     },
     "execution_count": 59,
     "metadata": {},
     "output_type": "execute_result"
    }
   ],
   "source": [
    "X_test.shape"
   ]
  },
  {
   "cell_type": "code",
   "execution_count": 60,
   "id": "9ab00892",
   "metadata": {},
   "outputs": [
    {
     "data": {
      "text/plain": [
       "(614, 7)"
      ]
     },
     "execution_count": 60,
     "metadata": {},
     "output_type": "execute_result"
    }
   ],
   "source": [
    "X_train.shape"
   ]
  },
  {
   "cell_type": "code",
   "execution_count": 61,
   "id": "62b83729",
   "metadata": {},
   "outputs": [
    {
     "data": {
      "text/plain": [
       "LogisticRegression()"
      ]
     },
     "execution_count": 61,
     "metadata": {},
     "output_type": "execute_result"
    }
   ],
   "source": [
    "# Train the model\n",
    "model = LogisticRegression()\n",
    "model.fit(X_train, y_train)"
   ]
  },
  {
   "cell_type": "code",
   "execution_count": 62,
   "id": "633702fe",
   "metadata": {},
   "outputs": [
    {
     "data": {
      "text/plain": [
       "0.7785016286644951"
      ]
     },
     "execution_count": 62,
     "metadata": {},
     "output_type": "execute_result"
    }
   ],
   "source": [
    "# training accuracy--> way1\n",
    "model.score(X_train,y_train)"
   ]
  },
  {
   "cell_type": "code",
   "execution_count": 63,
   "id": "7355fb1c",
   "metadata": {},
   "outputs": [
    {
     "data": {
      "text/plain": [
       "0.7857142857142857"
      ]
     },
     "execution_count": 63,
     "metadata": {},
     "output_type": "execute_result"
    }
   ],
   "source": [
    "# training accuracy\n",
    "model.score(X_test,y_test)"
   ]
  },
  {
   "cell_type": "code",
   "execution_count": 64,
   "id": "2cbbbd52",
   "metadata": {},
   "outputs": [
    {
     "data": {
      "text/plain": [
       "array([0, 0, 0, 1, 0], dtype=int64)"
      ]
     },
     "execution_count": 64,
     "metadata": {},
     "output_type": "execute_result"
    }
   ],
   "source": [
    "pred_train = model.predict(X_train)\n",
    "pred_train[:5]"
   ]
  },
  {
   "cell_type": "code",
   "execution_count": 65,
   "id": "7649da84",
   "metadata": {},
   "outputs": [
    {
     "data": {
      "text/plain": [
       "602    0\n",
       "429    1\n",
       "623    0\n",
       "209    1\n",
       "589    0\n",
       "Name: Outcome, dtype: int64"
      ]
     },
     "execution_count": 65,
     "metadata": {},
     "output_type": "execute_result"
    }
   ],
   "source": [
    "y_train[0:5]"
   ]
  },
  {
   "cell_type": "code",
   "execution_count": 66,
   "id": "5f2291e2",
   "metadata": {},
   "outputs": [
    {
     "data": {
      "text/plain": [
       "0.7785016286644951"
      ]
     },
     "execution_count": 66,
     "metadata": {},
     "output_type": "execute_result"
    }
   ],
   "source": [
    "accuracy_score(y_train,pred_train)"
   ]
  },
  {
   "cell_type": "code",
   "execution_count": 67,
   "id": "a7e3f6e1",
   "metadata": {},
   "outputs": [
    {
     "name": "stdout",
     "output_type": "stream",
     "text": [
      "acc_test:- 0.7857142857142857\n"
     ]
    }
   ],
   "source": [
    "pred_test = model.predict(X_test)\n",
    "acc_test = accuracy_score(y_test,pred_test)\n",
    "print('acc_test:-',acc_test)"
   ]
  },
  {
   "cell_type": "code",
   "execution_count": 68,
   "id": "dc7edad5",
   "metadata": {},
   "outputs": [
    {
     "data": {
      "text/plain": [
       "array([[95, 14],\n",
       "       [19, 26]], dtype=int64)"
      ]
     },
     "execution_count": 68,
     "metadata": {},
     "output_type": "execute_result"
    }
   ],
   "source": [
    "confusion_matrix(y_test,pred_test)"
   ]
  },
  {
   "cell_type": "code",
   "execution_count": 69,
   "id": "89ea2651",
   "metadata": {},
   "outputs": [
    {
     "name": "stdout",
     "output_type": "stream",
     "text": [
      "              precision    recall  f1-score   support\n",
      "\n",
      "           0       0.83      0.87      0.85       109\n",
      "           1       0.65      0.58      0.61        45\n",
      "\n",
      "    accuracy                           0.79       154\n",
      "   macro avg       0.74      0.72      0.73       154\n",
      "weighted avg       0.78      0.79      0.78       154\n",
      "\n"
     ]
    }
   ],
   "source": [
    "print(classification_report(y_test,pred_test))"
   ]
  },
  {
   "cell_type": "raw",
   "id": "6391979a",
   "metadata": {},
   "source": [
    "TN(95)     FP(14)\n",
    "FN(19)     TP(26)"
   ]
  },
  {
   "cell_type": "code",
   "execution_count": 70,
   "id": "ca55cbaf",
   "metadata": {},
   "outputs": [
    {
     "data": {
      "text/plain": [
       "0.65"
      ]
     },
     "execution_count": 70,
     "metadata": {},
     "output_type": "execute_result"
    }
   ],
   "source": [
    "precision_score(y_test,pred_test)"
   ]
  },
  {
   "cell_type": "code",
   "execution_count": 71,
   "id": "1a863aec",
   "metadata": {},
   "outputs": [
    {
     "data": {
      "text/plain": [
       "0.5777777777777777"
      ]
     },
     "execution_count": 71,
     "metadata": {},
     "output_type": "execute_result"
    }
   ],
   "source": [
    "recall_score(y_test,pred_test)"
   ]
  },
  {
   "cell_type": "code",
   "execution_count": 72,
   "id": "39089115",
   "metadata": {},
   "outputs": [
    {
     "data": {
      "text/plain": [
       "0.6117647058823529"
      ]
     },
     "execution_count": 72,
     "metadata": {},
     "output_type": "execute_result"
    }
   ],
   "source": [
    "f1_score(y_test,pred_test)"
   ]
  },
  {
   "cell_type": "code",
   "execution_count": null,
   "id": "01e49dba",
   "metadata": {},
   "outputs": [],
   "source": []
  },
  {
   "cell_type": "code",
   "execution_count": 73,
   "id": "db36d789",
   "metadata": {},
   "outputs": [],
   "source": [
    "fpr, tpr, thresholds = roc_curve(y_test,pred_test)"
   ]
  },
  {
   "cell_type": "code",
   "execution_count": 74,
   "id": "987ee528",
   "metadata": {},
   "outputs": [
    {
     "data": {
      "text/plain": [
       "<AxesSubplot:>"
      ]
     },
     "execution_count": 74,
     "metadata": {},
     "output_type": "execute_result"
    },
    {
     "data": {
      "image/png": "[encoded data removed]",
      "text/plain": [
       "<Figure size 432x288 with 1 Axes>"
      ]
     },
     "metadata": {
      "needs_background": "light"
     },
     "output_type": "display_data"
    }
   ],
   "source": [
    "sns.lineplot(x=fpr, y=tpr)   # ROC curve"
   ]
  },
  {
   "cell_type": "code",
   "execution_count": 75,
   "id": "e3cd598d",
   "metadata": {},
   "outputs": [
    {
     "data": {
      "text/plain": [
       "0.7246687054026503"
      ]
     },
     "execution_count": 75,
     "metadata": {},
     "output_type": "execute_result"
    }
   ],
   "source": [
    "auc(fpr,tpr)   # area under the ROC curve"
   ]
  },
  {
   "cell_type": "code",
   "execution_count": null,
   "id": "ed9eb857",
   "metadata": {},
   "outputs": [],
   "source": []
  },
  {
   "cell_type": "code",
   "execution_count": 76,
   "id": "a87365fc",
   "metadata": {},
   "outputs": [
    {
     "data": {
      "text/plain": [
       "array([[148.   ,  50.   ,  35.   ,   0.   ,  33.6  ,   0.627,  50.   ]])"
      ]
     },
     "execution_count": 76,
     "metadata": {},
     "output_type": "execute_result"
    }
   ],
   "source": [
    "new = [148,50,35,0,33.6,0.627,50]\n",
    "new = np.array([new])\n",
    "new"
   ]
  },
  {
   "cell_type": "code",
   "execution_count": 77,
   "id": "12b975ab",
   "metadata": {},
   "outputs": [
    {
     "data": {
      "text/plain": [
       "array([[ 0.86387994, -0.98561846,  0.90726993, -0.69289057,  0.20401277,\n",
       "         0.46849198,  1.42602233]])"
      ]
     },
     "execution_count": 77,
     "metadata": {},
     "output_type": "execute_result"
    }
   ],
   "source": [
    "new_scaled = scalar.transform(new)\n",
    "new_scaled"
   ]
  },
  {
   "cell_type": "code",
   "execution_count": 81,
   "id": "825706de",
   "metadata": {},
   "outputs": [
    {
     "data": {
      "text/plain": [
       "array([1], dtype=int64)"
      ]
     },
     "execution_count": 81,
     "metadata": {},
     "output_type": "execute_result"
    }
   ],
   "source": [
    "model.predict(new_scaled)"
   ]
  },
  {
   "cell_type": "code",
   "execution_count": 80,
   "id": "00da6c4f",
   "metadata": {},
   "outputs": [
    {
     "data": {
      "text/plain": [
       "array([[0.20363079, 0.79636921]])"
      ]
     },
     "execution_count": 80,
     "metadata": {},
     "output_type": "execute_result"
    }
   ],
   "source": [
    "# frist value is probabilty is prob value of class zero, and second number is probab of class one\n",
    "model.predict_proba(new_scaled)"
   ]
  },
  {
   "cell_type": "markdown",
   "id": "9d457b74",
   "metadata": {},
   "source": [
    "# Probabilitiy"
   ]
  },
  {
   "cell_type": "code",
   "execution_count": 85,
   "id": "e25a441c",
   "metadata": {},
   "outputs": [
    {
     "data": {
      "text/plain": [
       "array([[0.94702819, 0.05297181],\n",
       "       [0.79700288, 0.20299712],\n",
       "       [0.86599925, 0.13400075],\n",
       "       [0.49334049, 0.50665951],\n",
       "       [0.21415905, 0.78584095],\n",
       "       [0.88079688, 0.11920312],\n",
       "       [0.91961673, 0.08038327],\n",
       "       [0.56687387, 0.43312613],\n",
       "       [0.96281717, 0.03718283],\n",
       "       [0.42666045, 0.57333955],\n",
       "       [0.73938035, 0.26061965],\n",
       "       [0.74788664, 0.25211336],\n",
       "       [0.25662216, 0.74337784],\n",
       "       [0.75169777, 0.24830223],\n",
       "       [0.98029062, 0.01970938],\n",
       "       [0.32898639, 0.67101361],\n",
       "       [0.15357241, 0.84642759],\n",
       "       [0.95730804, 0.04269196],\n",
       "       [0.74077169, 0.25922831],\n",
       "       [0.10974865, 0.89025135],\n",
       "       [0.16126848, 0.83873152],\n",
       "       [0.12325019, 0.87674981],\n",
       "       [0.89421124, 0.10578876],\n",
       "       [0.45948495, 0.54051505],\n",
       "       [0.91867661, 0.08132339],\n",
       "       [0.95909044, 0.04090956],\n",
       "       [0.34766576, 0.65233424],\n",
       "       [0.58860632, 0.41139368],\n",
       "       [0.71112284, 0.28887716],\n",
       "       [0.75028274, 0.24971726],\n",
       "       [0.57719678, 0.42280322],\n",
       "       [0.6533795 , 0.3466205 ],\n",
       "       [0.99124736, 0.00875264],\n",
       "       [0.81691291, 0.18308709],\n",
       "       [0.81457067, 0.18542933],\n",
       "       [0.05651409, 0.94348591],\n",
       "       [0.57540355, 0.42459645],\n",
       "       [0.41921812, 0.58078188],\n",
       "       [0.68245815, 0.31754185],\n",
       "       [0.9459031 , 0.0540969 ],\n",
       "       [0.81990881, 0.18009119],\n",
       "       [0.87532382, 0.12467618],\n",
       "       [0.71997656, 0.28002344],\n",
       "       [0.7934455 , 0.2065545 ],\n",
       "       [0.96163818, 0.03836182],\n",
       "       [0.95094856, 0.04905144],\n",
       "       [0.75623508, 0.24376492],\n",
       "       [0.68461495, 0.31538505],\n",
       "       [0.84767599, 0.15232401],\n",
       "       [0.58997019, 0.41002981],\n",
       "       [0.00561142, 0.99438858],\n",
       "       [0.66765668, 0.33234332],\n",
       "       [0.48447748, 0.51552252],\n",
       "       [0.33781174, 0.66218826],\n",
       "       [0.66368817, 0.33631183],\n",
       "       [0.61561098, 0.38438902],\n",
       "       [0.06968776, 0.93031224],\n",
       "       [0.58346082, 0.41653918],\n",
       "       [0.40309392, 0.59690608],\n",
       "       [0.94585237, 0.05414763],\n",
       "       [0.6802783 , 0.3197217 ],\n",
       "       [0.26004873, 0.73995127],\n",
       "       [0.17134128, 0.82865872],\n",
       "       [0.16461326, 0.83538674],\n",
       "       [0.64615904, 0.35384096],\n",
       "       [0.84182233, 0.15817767],\n",
       "       [0.19286436, 0.80713564],\n",
       "       [0.80285241, 0.19714759],\n",
       "       [0.73782239, 0.26217761],\n",
       "       [0.72631834, 0.27368166],\n",
       "       [0.88935472, 0.11064528],\n",
       "       [0.89224073, 0.10775927],\n",
       "       [0.5315563 , 0.4684437 ],\n",
       "       [0.87715961, 0.12284039],\n",
       "       [0.91048991, 0.08951009],\n",
       "       [0.56958313, 0.43041687],\n",
       "       [0.69185867, 0.30814133],\n",
       "       [0.90474232, 0.09525768],\n",
       "       [0.83469112, 0.16530888],\n",
       "       [0.80126797, 0.19873203],\n",
       "       [0.93896267, 0.06103733],\n",
       "       [0.67554124, 0.32445876],\n",
       "       [0.83135089, 0.16864911],\n",
       "       [0.69896579, 0.30103421],\n",
       "       [0.3658434 , 0.6341566 ],\n",
       "       [0.63301903, 0.36698097],\n",
       "       [0.80614476, 0.19385524],\n",
       "       [0.86923464, 0.13076536],\n",
       "       [0.73887789, 0.26112211],\n",
       "       [0.32408417, 0.67591583],\n",
       "       [0.86837247, 0.13162753],\n",
       "       [0.70680646, 0.29319354],\n",
       "       [0.65652419, 0.34347581],\n",
       "       [0.93062878, 0.06937122],\n",
       "       [0.7061001 , 0.2938999 ],\n",
       "       [0.23606035, 0.76393965],\n",
       "       [0.69034639, 0.30965361],\n",
       "       [0.47253665, 0.52746335],\n",
       "       [0.21567357, 0.78432643],\n",
       "       [0.93610764, 0.06389236],\n",
       "       [0.42455081, 0.57544919],\n",
       "       [0.374592  , 0.625408  ],\n",
       "       [0.86873861, 0.13126139],\n",
       "       [0.92516456, 0.07483544],\n",
       "       [0.83645383, 0.16354617],\n",
       "       [0.90219651, 0.09780349],\n",
       "       [0.07554958, 0.92445042],\n",
       "       [0.84976717, 0.15023283],\n",
       "       [0.83413321, 0.16586679],\n",
       "       [0.86505952, 0.13494048],\n",
       "       [0.94512413, 0.05487587],\n",
       "       [0.86705698, 0.13294302],\n",
       "       [0.61821036, 0.38178964],\n",
       "       [0.91004727, 0.08995273],\n",
       "       [0.72387095, 0.27612905],\n",
       "       [0.11282047, 0.88717953],\n",
       "       [0.73073604, 0.26926396],\n",
       "       [0.8905915 , 0.1094085 ],\n",
       "       [0.84893619, 0.15106381],\n",
       "       [0.89964344, 0.10035656],\n",
       "       [0.4327211 , 0.5672789 ],\n",
       "       [0.65367408, 0.34632592],\n",
       "       [0.89780198, 0.10219802],\n",
       "       [0.83013254, 0.16986746],\n",
       "       [0.65126764, 0.34873236],\n",
       "       [0.1927003 , 0.8072997 ],\n",
       "       [0.89314058, 0.10685942],\n",
       "       [0.51475524, 0.48524476],\n",
       "       [0.45958991, 0.54041009],\n",
       "       [0.66884634, 0.33115366],\n",
       "       [0.35833591, 0.64166409],\n",
       "       [0.67252855, 0.32747145],\n",
       "       [0.52304071, 0.47695929],\n",
       "       [0.95797409, 0.04202591],\n",
       "       [0.54109163, 0.45890837],\n",
       "       [0.21988056, 0.78011944],\n",
       "       [0.68701363, 0.31298637],\n",
       "       [0.46829074, 0.53170926],\n",
       "       [0.80393245, 0.19606755],\n",
       "       [0.50636287, 0.49363713],\n",
       "       [0.75029963, 0.24970037],\n",
       "       [0.30442721, 0.69557279],\n",
       "       [0.7847347 , 0.2152653 ],\n",
       "       [0.65446297, 0.34553703],\n",
       "       [0.85529292, 0.14470708],\n",
       "       [0.82938317, 0.17061683],\n",
       "       [0.93310421, 0.06689579],\n",
       "       [0.26142079, 0.73857921],\n",
       "       [0.94815661, 0.05184339],\n",
       "       [0.87414024, 0.12585976],\n",
       "       [0.92098031, 0.07901969],\n",
       "       [0.71672829, 0.28327171],\n",
       "       [0.35013012, 0.64986988],\n",
       "       [0.97412207, 0.02587793]])"
      ]
     },
     "execution_count": 85,
     "metadata": {},
     "output_type": "execute_result"
    }
   ],
   "source": [
    "prob = model.predict_proba(X_test)\n",
    "prob"
   ]
  },
  {
   "cell_type": "code",
   "execution_count": 88,
   "id": "2e679760",
   "metadata": {},
   "outputs": [
    {
     "data": {
      "text/plain": [
       "array([0.05297181, 0.20299712, 0.13400075, 0.50665951, 0.78584095,\n",
       "       0.11920312, 0.08038327, 0.43312613, 0.03718283, 0.57333955,\n",
       "       0.26061965, 0.25211336, 0.74337784, 0.24830223, 0.01970938,\n",
       "       0.67101361, 0.84642759, 0.04269196, 0.25922831, 0.89025135,\n",
       "       0.83873152, 0.87674981, 0.10578876, 0.54051505, 0.08132339,\n",
       "       0.04090956, 0.65233424, 0.41139368, 0.28887716, 0.24971726,\n",
       "       0.42280322, 0.3466205 , 0.00875264, 0.18308709, 0.18542933,\n",
       "       0.94348591, 0.42459645, 0.58078188, 0.31754185, 0.0540969 ,\n",
       "       0.18009119, 0.12467618, 0.28002344, 0.2065545 , 0.03836182,\n",
       "       0.04905144, 0.24376492, 0.31538505, 0.15232401, 0.41002981,\n",
       "       0.99438858, 0.33234332, 0.51552252, 0.66218826, 0.33631183,\n",
       "       0.38438902, 0.93031224, 0.41653918, 0.59690608, 0.05414763,\n",
       "       0.3197217 , 0.73995127, 0.82865872, 0.83538674, 0.35384096,\n",
       "       0.15817767, 0.80713564, 0.19714759, 0.26217761, 0.27368166,\n",
       "       0.11064528, 0.10775927, 0.4684437 , 0.12284039, 0.08951009,\n",
       "       0.43041687, 0.30814133, 0.09525768, 0.16530888, 0.19873203,\n",
       "       0.06103733, 0.32445876, 0.16864911, 0.30103421, 0.6341566 ,\n",
       "       0.36698097, 0.19385524, 0.13076536, 0.26112211, 0.67591583,\n",
       "       0.13162753, 0.29319354, 0.34347581, 0.06937122, 0.2938999 ,\n",
       "       0.76393965, 0.30965361, 0.52746335, 0.78432643, 0.06389236,\n",
       "       0.57544919, 0.625408  , 0.13126139, 0.07483544, 0.16354617,\n",
       "       0.09780349, 0.92445042, 0.15023283, 0.16586679, 0.13494048,\n",
       "       0.05487587, 0.13294302, 0.38178964, 0.08995273, 0.27612905,\n",
       "       0.88717953, 0.26926396, 0.1094085 , 0.15106381, 0.10035656,\n",
       "       0.5672789 , 0.34632592, 0.10219802, 0.16986746, 0.34873236,\n",
       "       0.8072997 , 0.10685942, 0.48524476, 0.54041009, 0.33115366,\n",
       "       0.64166409, 0.32747145, 0.47695929, 0.04202591, 0.45890837,\n",
       "       0.78011944, 0.31298637, 0.53170926, 0.19606755, 0.49363713,\n",
       "       0.24970037, 0.69557279, 0.2152653 , 0.34553703, 0.14470708,\n",
       "       0.17061683, 0.06689579, 0.73857921, 0.05184339, 0.12585976,\n",
       "       0.07901969, 0.28327171, 0.64986988, 0.02587793])"
      ]
     },
     "execution_count": 88,
     "metadata": {},
     "output_type": "execute_result"
    }
   ],
   "source": [
    "prob_1 = prob[:,1]\n",
    "prob_1"
   ]
  },
  {
   "cell_type": "code",
   "execution_count": 117,
   "id": "8162775e",
   "metadata": {},
   "outputs": [],
   "source": [
    "thresh = 0.49\n",
    "l1 = []\n",
    "for value in prob_1:\n",
    "    if value>thresh:\n",
    "        l1.append(1)\n",
    "    else:\n",
    "        l1.append(0)"
   ]
  },
  {
   "cell_type": "code",
   "execution_count": 118,
   "id": "dcdeb234",
   "metadata": {},
   "outputs": [
    {
     "name": "stdout",
     "output_type": "stream",
     "text": [
      "              precision    recall  f1-score   support\n",
      "\n",
      "           0       0.84      0.87      0.86       109\n",
      "           1       0.66      0.60      0.63        45\n",
      "\n",
      "    accuracy                           0.79       154\n",
      "   macro avg       0.75      0.74      0.74       154\n",
      "weighted avg       0.79      0.79      0.79       154\n",
      "\n"
     ]
    }
   ],
   "source": [
    "print(classification_report(y_test,l1))"
   ]
  },
  {
   "cell_type": "raw",
   "id": "cebcf5b9",
   "metadata": {},
   "source": [
    "for 0.5 thresh\n",
    "\n",
    "precision    recall  f1-score   support\n",
    "\n",
    "           0       0.83      0.87      0.85       109\n",
    "           1       0.65      0.58      0.61        45\n",
    "\n",
    "    accuracy                           0.79       154\n",
    "   macro avg       0.74      0.72      0.73       154\n",
    "weighted avg       0.78      0.79      0.78       154\n"
   ]
  }
 ],
 "metadata": {
  "kernelspec": {
   "display_name": "Python 3 (ipykernel)",
   "language": "python",
   "name": "python3"
  },
  "language_info": {
   "codemirror_mode": {
    "name": "ipython",
    "version": 3
   },
   "file_extension": ".py",
   "mimetype": "text/x-python",
   "name": "python",
   "nbconvert_exporter": "python",
   "pygments_lexer": "ipython3",
   "version": "3.9.12"
  }
 },
 "nbformat": 4,
 "nbformat_minor": 5
}
