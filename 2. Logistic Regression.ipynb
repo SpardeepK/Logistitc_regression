{
 "cells": [
  {
   "cell_type": "markdown",
   "metadata": {},
   "source": [
    "## Evaluation Techniques"
   ]
  },
  {
   "cell_type": "code",
   "execution_count": null,
   "metadata": {},
   "outputs": [],
   "source": [
    "Confusion Matrix\n",
    "Accuracy\n",
    "Precision\n",
    "Recall\n",
    "F1-score"
   ]
  },
  {
   "cell_type": "code",
   "execution_count": null,
   "metadata": {},
   "outputs": [],
   "source": [
    "TP >> actually it is positive and the predicted also in positive\n",
    "TN >> Actually it is from the negative class and also got predicted in negative class only.\n",
    "FP(Type-I error) >> Actually it from the negative class and predicted in positive\n",
    "FN(Type-II error) >> Actually it positive but got predicted negative."
   ]
  },
  {
   "cell_type": "code",
   "execution_count": null,
   "metadata": {},
   "outputs": [],
   "source": [
    "Accuracy = (correctly classified data points)         TP+TN\n",
    "           ------------------------------------ =  -------------\n",
    "              (Total No. of data points)            (TP+TN+FP+FN)"
   ]
  },
  {
   "cell_type": "code",
   "execution_count": null,
   "metadata": {},
   "outputs": [],
   "source": [
    "1. Precision >>  TP/(TP+FP) >> When FP values are more important \n",
    "   Out of all positive predicted values, how many are correctly predicted.\n",
    "    \n",
    "2. Recall >> sensitivity >> TPR >> When FN values are more important\n",
    "           TP/(TP+FN)\n",
    "    Out of all the actual positive values how many are correctly predicted.\n",
    "    \n",
    "3. F1 - Score >> When both precision and recall are important.\n",
    "         2PR/(P+R)"
   ]
  },
  {
   "cell_type": "code",
   "execution_count": null,
   "metadata": {},
   "outputs": [],
   "source": [
    "1. TPR >> From the all positive values how much are correctly classified\n",
    "          TP/(TP+FN)\n",
    "          Proportion of positive class got correctly classified by classifier.\n",
    "    \n",
    "2. FPR >> False Positive Rate\n",
    "       >>> from all the negative values, how much are incorrectly classified \n",
    "          FP/(TN+FP)\n",
    "        \n",
    "3. TNR >> From all the actual negative values, how much are correctly classified\n",
    "          TN/(FP+TN)\n",
    "    \n",
    "4. FNR >> From the all actual positive values how much are incorrectly classified\n",
    "          FN/(TP+FN)"
   ]
  }
 ],
 "metadata": {
  "kernelspec": {
   "display_name": "Python 3 (ipykernel)",
   "language": "python",
   "name": "python3"
  },
  "language_info": {
   "codemirror_mode": {
    "name": "ipython",
    "version": 3
   },
   "file_extension": ".py",
   "mimetype": "text/x-python",
   "name": "python",
   "nbconvert_exporter": "python",
   "pygments_lexer": "ipython3",
   "version": "3.9.12"
  }
 },
 "nbformat": 4,
 "nbformat_minor": 4
}
