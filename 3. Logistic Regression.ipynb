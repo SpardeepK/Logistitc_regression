{
 "cells": [
  {
   "cell_type": "raw",
   "metadata": {},
   "source": [
    "## Confusion matrix\n",
    "              Actual \n",
    "          P(1)      N(0)\n",
    "        \n",
    "P  p(1)   TP        FP \n",
    "r\n",
    "e\n",
    "d  N(0)   FN        TN"
   ]
  },
  {
   "cell_type": "markdown",
   "metadata": {},
   "source": [
    "## Logistic Regression"
   ]
  },
  {
   "cell_type": "code",
   "execution_count": 65,
   "metadata": {},
   "outputs": [],
   "source": [
    "import pandas as pd\n",
    "import numpy as np\n",
    "\n",
    "from sklearn.linear_model import LogisticRegression \n",
    "from sklearn.model_selection import train_test_split\n",
    "\n",
    "from sklearn.metrics import accuracy_score, confusion_matrix, precision_score, recall_score, f1_score, classification_report\n",
    "\n",
    "from sklearn.metrics import plot_confusion_matrix, roc_curve, auc,roc_auc_score\n",
    "import matplotlib.pyplot as plt\n",
    "import seaborn as sns\n",
    "\n",
    "import warnings\n",
    "warnings.filterwarnings('ignore')\n"
   ]
  },
  {
   "cell_type": "code",
   "execution_count": null,
   "metadata": {},
   "outputs": [],
   "source": []
  },
  {
   "cell_type": "code",
   "execution_count": 2,
   "metadata": {},
   "outputs": [
    {
     "data": {
      "text/html": [
       "<div>\n",
       "<style scoped>\n",
       "    .dataframe tbody tr th:only-of-type {\n",
       "        vertical-align: middle;\n",
       "    }\n",
       "\n",
       "    .dataframe tbody tr th {\n",
       "        vertical-align: top;\n",
       "    }\n",
       "\n",
       "    .dataframe thead th {\n",
       "        text-align: right;\n",
       "    }\n",
       "</style>\n",
       "<table border=\"1\" class=\"dataframe\">\n",
       "  <thead>\n",
       "    <tr style=\"text-align: right;\">\n",
       "      <th></th>\n",
       "      <th>Glucose</th>\n",
       "      <th>BloodPressure</th>\n",
       "      <th>SkinThickness</th>\n",
       "      <th>Insulin</th>\n",
       "      <th>BMI</th>\n",
       "      <th>DiabetesPedigreeFunction</th>\n",
       "      <th>Age</th>\n",
       "      <th>Outcome</th>\n",
       "    </tr>\n",
       "  </thead>\n",
       "  <tbody>\n",
       "    <tr>\n",
       "      <th>0</th>\n",
       "      <td>148</td>\n",
       "      <td>50</td>\n",
       "      <td>35</td>\n",
       "      <td>0</td>\n",
       "      <td>33.6</td>\n",
       "      <td>0.627</td>\n",
       "      <td>50</td>\n",
       "      <td>1</td>\n",
       "    </tr>\n",
       "    <tr>\n",
       "      <th>1</th>\n",
       "      <td>85</td>\n",
       "      <td>66</td>\n",
       "      <td>29</td>\n",
       "      <td>0</td>\n",
       "      <td>26.6</td>\n",
       "      <td>0.351</td>\n",
       "      <td>31</td>\n",
       "      <td>0</td>\n",
       "    </tr>\n",
       "    <tr>\n",
       "      <th>2</th>\n",
       "      <td>183</td>\n",
       "      <td>64</td>\n",
       "      <td>0</td>\n",
       "      <td>0</td>\n",
       "      <td>23.3</td>\n",
       "      <td>0.672</td>\n",
       "      <td>52</td>\n",
       "      <td>1</td>\n",
       "    </tr>\n",
       "    <tr>\n",
       "      <th>3</th>\n",
       "      <td>150</td>\n",
       "      <td>66</td>\n",
       "      <td>23</td>\n",
       "      <td>94</td>\n",
       "      <td>28.1</td>\n",
       "      <td>0.167</td>\n",
       "      <td>21</td>\n",
       "      <td>0</td>\n",
       "    </tr>\n",
       "    <tr>\n",
       "      <th>4</th>\n",
       "      <td>150</td>\n",
       "      <td>40</td>\n",
       "      <td>35</td>\n",
       "      <td>168</td>\n",
       "      <td>43.1</td>\n",
       "      <td>2.288</td>\n",
       "      <td>33</td>\n",
       "      <td>1</td>\n",
       "    </tr>\n",
       "    <tr>\n",
       "      <th>...</th>\n",
       "      <td>...</td>\n",
       "      <td>...</td>\n",
       "      <td>...</td>\n",
       "      <td>...</td>\n",
       "      <td>...</td>\n",
       "      <td>...</td>\n",
       "      <td>...</td>\n",
       "      <td>...</td>\n",
       "    </tr>\n",
       "    <tr>\n",
       "      <th>763</th>\n",
       "      <td>101</td>\n",
       "      <td>76</td>\n",
       "      <td>48</td>\n",
       "      <td>180</td>\n",
       "      <td>32.9</td>\n",
       "      <td>0.171</td>\n",
       "      <td>63</td>\n",
       "      <td>0</td>\n",
       "    </tr>\n",
       "    <tr>\n",
       "      <th>764</th>\n",
       "      <td>122</td>\n",
       "      <td>70</td>\n",
       "      <td>27</td>\n",
       "      <td>0</td>\n",
       "      <td>36.8</td>\n",
       "      <td>0.340</td>\n",
       "      <td>27</td>\n",
       "      <td>0</td>\n",
       "    </tr>\n",
       "    <tr>\n",
       "      <th>765</th>\n",
       "      <td>121</td>\n",
       "      <td>72</td>\n",
       "      <td>23</td>\n",
       "      <td>112</td>\n",
       "      <td>26.2</td>\n",
       "      <td>0.245</td>\n",
       "      <td>30</td>\n",
       "      <td>0</td>\n",
       "    </tr>\n",
       "    <tr>\n",
       "      <th>766</th>\n",
       "      <td>126</td>\n",
       "      <td>60</td>\n",
       "      <td>0</td>\n",
       "      <td>0</td>\n",
       "      <td>30.1</td>\n",
       "      <td>0.349</td>\n",
       "      <td>47</td>\n",
       "      <td>1</td>\n",
       "    </tr>\n",
       "    <tr>\n",
       "      <th>767</th>\n",
       "      <td>93</td>\n",
       "      <td>70</td>\n",
       "      <td>31</td>\n",
       "      <td>0</td>\n",
       "      <td>30.4</td>\n",
       "      <td>0.315</td>\n",
       "      <td>23</td>\n",
       "      <td>0</td>\n",
       "    </tr>\n",
       "  </tbody>\n",
       "</table>\n",
       "<p>768 rows × 8 columns</p>\n",
       "</div>"
      ],
      "text/plain": [
       "     Glucose  BloodPressure  SkinThickness  Insulin   BMI  \\\n",
       "0        148             50             35        0  33.6   \n",
       "1         85             66             29        0  26.6   \n",
       "2        183             64              0        0  23.3   \n",
       "3        150             66             23       94  28.1   \n",
       "4        150             40             35      168  43.1   \n",
       "..       ...            ...            ...      ...   ...   \n",
       "763      101             76             48      180  32.9   \n",
       "764      122             70             27        0  36.8   \n",
       "765      121             72             23      112  26.2   \n",
       "766      126             60              0        0  30.1   \n",
       "767       93             70             31        0  30.4   \n",
       "\n",
       "     DiabetesPedigreeFunction  Age  Outcome  \n",
       "0                       0.627   50        1  \n",
       "1                       0.351   31        0  \n",
       "2                       0.672   52        1  \n",
       "3                       0.167   21        0  \n",
       "4                       2.288   33        1  \n",
       "..                        ...  ...      ...  \n",
       "763                     0.171   63        0  \n",
       "764                     0.340   27        0  \n",
       "765                     0.245   30        0  \n",
       "766                     0.349   47        1  \n",
       "767                     0.315   23        0  \n",
       "\n",
       "[768 rows x 8 columns]"
      ]
     },
     "execution_count": 2,
     "metadata": {},
     "output_type": "execute_result"
    }
   ],
   "source": [
    "df = pd.read_csv('diabetes.csv')\n",
    "df"
   ]
  },
  {
   "cell_type": "code",
   "execution_count": 3,
   "metadata": {},
   "outputs": [
    {
     "name": "stdout",
     "output_type": "stream",
     "text": [
      "<class 'pandas.core.frame.DataFrame'>\n",
      "RangeIndex: 768 entries, 0 to 767\n",
      "Data columns (total 8 columns):\n",
      " #   Column                    Non-Null Count  Dtype  \n",
      "---  ------                    --------------  -----  \n",
      " 0   Glucose                   768 non-null    int64  \n",
      " 1   BloodPressure             768 non-null    int64  \n",
      " 2   SkinThickness             768 non-null    int64  \n",
      " 3   Insulin                   768 non-null    int64  \n",
      " 4   BMI                       768 non-null    float64\n",
      " 5   DiabetesPedigreeFunction  768 non-null    float64\n",
      " 6   Age                       768 non-null    int64  \n",
      " 7   Outcome                   768 non-null    int64  \n",
      "dtypes: float64(2), int64(6)\n",
      "memory usage: 48.1 KB\n"
     ]
    }
   ],
   "source": [
    "df.info()"
   ]
  },
  {
   "cell_type": "code",
   "execution_count": 4,
   "metadata": {},
   "outputs": [
    {
     "data": {
      "text/plain": [
       "0    500\n",
       "1    268\n",
       "Name: Outcome, dtype: int64"
      ]
     },
     "execution_count": 4,
     "metadata": {},
     "output_type": "execute_result"
    }
   ],
   "source": [
    "df['Outcome'].value_counts()"
   ]
  },
  {
   "cell_type": "raw",
   "metadata": {},
   "source": [
    "500/(268+500) >> 0.65 >> 0.85\n",
    "0.35"
   ]
  },
  {
   "cell_type": "code",
   "execution_count": 6,
   "metadata": {
    "scrolled": false
   },
   "outputs": [
    {
     "data": {
      "text/plain": [
       "<AxesSubplot:xlabel='Outcome', ylabel='count'>"
      ]
     },
     "execution_count": 6,
     "metadata": {},
     "output_type": "execute_result"
    },
    {
     "data": {
      "image/png": "[encoded data removed]",
      "text/plain": [
       "<Figure size 432x288 with 1 Axes>"
      ]
     },
     "metadata": {
      "needs_background": "light"
     },
     "output_type": "display_data"
    }
   ],
   "source": [
    "sns.countplot(x=df['Outcome']) # categorical variable"
   ]
  },
  {
   "cell_type": "code",
   "execution_count": null,
   "metadata": {},
   "outputs": [],
   "source": [
    "df.head()"
   ]
  },
  {
   "cell_type": "markdown",
   "metadata": {},
   "source": [
    "## Train test split"
   ]
  },
  {
   "cell_type": "code",
   "execution_count": 7,
   "metadata": {},
   "outputs": [],
   "source": [
    "x = df.drop('Outcome',axis=1)\n",
    "y = df['Outcome'] # 0 and 1"
   ]
  },
  {
   "cell_type": "code",
   "execution_count": 8,
   "metadata": {},
   "outputs": [],
   "source": [
    "x_train, x_test, y_train, y_test = train_test_split(x,y,test_size=0.2, random_state=1, stratify=y)"
   ]
  },
  {
   "cell_type": "code",
   "execution_count": 9,
   "metadata": {
    "scrolled": true
   },
   "outputs": [
    {
     "data": {
      "text/plain": [
       "0    400\n",
       "1    214\n",
       "Name: Outcome, dtype: int64"
      ]
     },
     "execution_count": 9,
     "metadata": {},
     "output_type": "execute_result"
    }
   ],
   "source": [
    "y_train.value_counts() # 0.65, 0.34, 401/213 >> 400/214 >> 0.6514/0.34"
   ]
  },
  {
   "cell_type": "code",
   "execution_count": 10,
   "metadata": {
    "scrolled": false
   },
   "outputs": [
    {
     "data": {
      "text/plain": [
       "0    100\n",
       "1     54\n",
       "Name: Outcome, dtype: int64"
      ]
     },
     "execution_count": 10,
     "metadata": {},
     "output_type": "execute_result"
    }
   ],
   "source": [
    "y_test.value_counts() # 99/55 >> 100/54 >> 0.649/0.35"
   ]
  },
  {
   "cell_type": "code",
   "execution_count": null,
   "metadata": {},
   "outputs": [],
   "source": [
    "# 100/(100+54) # 0.64\n",
    "# 54/(100+54)  ## 0.35"
   ]
  },
  {
   "cell_type": "markdown",
   "metadata": {},
   "source": [
    "## Model Training"
   ]
  },
  {
   "cell_type": "code",
   "execution_count": 11,
   "metadata": {},
   "outputs": [
    {
     "data": {
      "text/html": [
       "<style>#sk-container-id-1 {color: black;background-color: white;}#sk-container-id-1 pre{padding: 0;}#sk-container-id-1 div.sk-toggleable {background-color: white;}#sk-container-id-1 label.sk-toggleable__label {cursor: pointer;display: block;width: 100%;margin-bottom: 0;padding: 0.3em;box-sizing: border-box;text-align: center;}#sk-container-id-1 label.sk-toggleable__label-arrow:before {content: \"▸\";float: left;margin-right: 0.25em;color: #696969;}#sk-container-id-1 label.sk-toggleable__label-arrow:hover:before {color: black;}#sk-container-id-1 div.sk-estimator:hover label.sk-toggleable__label-arrow:before {color: black;}#sk-container-id-1 div.sk-toggleable__content {max-height: 0;max-width: 0;overflow: hidden;text-align: left;background-color: #f0f8ff;}#sk-container-id-1 div.sk-toggleable__content pre {margin: 0.2em;color: black;border-radius: 0.25em;background-color: #f0f8ff;}#sk-container-id-1 input.sk-toggleable__control:checked~div.sk-toggleable__content {max-height: 200px;max-width: 100%;overflow: auto;}#sk-container-id-1 input.sk-toggleable__control:checked~label.sk-toggleable__label-arrow:before {content: \"▾\";}#sk-container-id-1 div.sk-estimator input.sk-toggleable__control:checked~label.sk-toggleable__label {background-color: #d4ebff;}#sk-container-id-1 div.sk-label input.sk-toggleable__control:checked~label.sk-toggleable__label {background-color: #d4ebff;}#sk-container-id-1 input.sk-hidden--visually {border: 0;clip: rect(1px 1px 1px 1px);clip: rect(1px, 1px, 1px, 1px);height: 1px;margin: -1px;overflow: hidden;padding: 0;position: absolute;width: 1px;}#sk-container-id-1 div.sk-estimator {font-family: monospace;background-color: #f0f8ff;border: 1px dotted black;border-radius: 0.25em;box-sizing: border-box;margin-bottom: 0.5em;}#sk-container-id-1 div.sk-estimator:hover {background-color: #d4ebff;}#sk-container-id-1 div.sk-parallel-item::after {content: \"\";width: 100%;border-bottom: 1px solid gray;flex-grow: 1;}#sk-container-id-1 div.sk-label:hover label.sk-toggleable__label {background-color: #d4ebff;}#sk-container-id-1 div.sk-serial::before {content: \"\";position: absolute;border-left: 1px solid gray;box-sizing: border-box;top: 0;bottom: 0;left: 50%;z-index: 0;}#sk-container-id-1 div.sk-serial {display: flex;flex-direction: column;align-items: center;background-color: white;padding-right: 0.2em;padding-left: 0.2em;position: relative;}#sk-container-id-1 div.sk-item {position: relative;z-index: 1;}#sk-container-id-1 div.sk-parallel {display: flex;align-items: stretch;justify-content: center;background-color: white;position: relative;}#sk-container-id-1 div.sk-item::before, #sk-container-id-1 div.sk-parallel-item::before {content: \"\";position: absolute;border-left: 1px solid gray;box-sizing: border-box;top: 0;bottom: 0;left: 50%;z-index: -1;}#sk-container-id-1 div.sk-parallel-item {display: flex;flex-direction: column;z-index: 1;position: relative;background-color: white;}#sk-container-id-1 div.sk-parallel-item:first-child::after {align-self: flex-end;width: 50%;}#sk-container-id-1 div.sk-parallel-item:last-child::after {align-self: flex-start;width: 50%;}#sk-container-id-1 div.sk-parallel-item:only-child::after {width: 0;}#sk-container-id-1 div.sk-dashed-wrapped {border: 1px dashed gray;margin: 0 0.4em 0.5em 0.4em;box-sizing: border-box;padding-bottom: 0.4em;background-color: white;}#sk-container-id-1 div.sk-label label {font-family: monospace;font-weight: bold;display: inline-block;line-height: 1.2em;}#sk-container-id-1 div.sk-label-container {text-align: center;}#sk-container-id-1 div.sk-container {/* jupyter's `normalize.less` sets `[hidden] { display: none; }` but bootstrap.min.css set `[hidden] { display: none !important; }` so we also need the `!important` here to be able to override the default hidden behavior on the sphinx rendered scikit-learn.org. See: https://github.com/scikit-learn/scikit-learn/issues/21755 */display: inline-block !important;position: relative;}#sk-container-id-1 div.sk-text-repr-fallback {display: none;}</style><div id=\"sk-container-id-1\" class=\"sk-top-container\"><div class=\"sk-text-repr-fallback\"><pre>LogisticRegression()</pre><b>In a Jupyter environment, please rerun this cell to show the HTML representation or trust the notebook. <br />On GitHub, the HTML representation is unable to render, please try loading this page with nbviewer.org.</b></div><div class=\"sk-container\" hidden><div class=\"sk-item\"><div class=\"sk-estimator sk-toggleable\"><input class=\"sk-toggleable__control sk-hidden--visually\" id=\"sk-estimator-id-1\" type=\"checkbox\" checked><label for=\"sk-estimator-id-1\" class=\"sk-toggleable__label sk-toggleable__label-arrow\">LogisticRegression</label><div class=\"sk-toggleable__content\"><pre>LogisticRegression()</pre></div></div></div></div></div>"
      ],
      "text/plain": [
       "LogisticRegression()"
      ]
     },
     "execution_count": 11,
     "metadata": {},
     "output_type": "execute_result"
    }
   ],
   "source": [
    "lg_model = LogisticRegression()\n",
    "lg_model.fit(x_train,y_train)"
   ]
  },
  {
   "cell_type": "code",
   "execution_count": 15,
   "metadata": {
    "scrolled": true
   },
   "outputs": [
    {
     "data": {
      "text/plain": [
       "<sklearn.metrics._plot.confusion_matrix.ConfusionMatrixDisplay at 0x249fc5795b0>"
      ]
     },
     "execution_count": 15,
     "metadata": {},
     "output_type": "execute_result"
    },
    {
     "data": {
      "image/png": "[encoded data removed]",
      "text/plain": [
       "<Figure size 432x288 with 2 Axes>"
      ]
     },
     "metadata": {
      "needs_background": "light"
     },
     "output_type": "display_data"
    }
   ],
   "source": [
    "plot_confusion_matrix(lg_model, x_train, y_train)"
   ]
  },
  {
   "cell_type": "code",
   "execution_count": 14,
   "metadata": {},
   "outputs": [
    {
     "data": {
      "text/plain": [
       "<sklearn.metrics._plot.confusion_matrix.ConfusionMatrixDisplay at 0x249fa0bdc40>"
      ]
     },
     "execution_count": 14,
     "metadata": {},
     "output_type": "execute_result"
    },
    {
     "data": {
      "image/png": "[encoded data removed]",
      "text/plain": [
       "<Figure size 432x288 with 2 Axes>"
      ]
     },
     "metadata": {
      "needs_background": "light"
     },
     "output_type": "display_data"
    }
   ],
   "source": [
    "plot_confusion_matrix(lg_model, x_test, y_test)"
   ]
  },
  {
   "cell_type": "markdown",
   "metadata": {},
   "source": [
    "## Evaluation"
   ]
  },
  {
   "cell_type": "code",
   "execution_count": 19,
   "metadata": {
    "scrolled": false
   },
   "outputs": [
    {
     "name": "stdout",
     "output_type": "stream",
     "text": [
      "Confusion Matrix is:\n",
      " [[86 14]\n",
      " [26 28]]\n",
      "******************************************************************************************\n",
      "Accuracy Score is:  0.7402597402597403\n",
      "******************************************************************************************\n",
      "\n",
      "Classification Report is :\n",
      "               precision    recall  f1-score   support\n",
      "\n",
      "           0       0.77      0.86      0.81       100\n",
      "           1       0.67      0.52      0.58        54\n",
      "\n",
      "    accuracy                           0.74       154\n",
      "   macro avg       0.72      0.69      0.70       154\n",
      "weighted avg       0.73      0.74      0.73       154\n",
      "\n"
     ]
    }
   ],
   "source": [
    "y_pred = lg_model.predict(x_test)\n",
    "\n",
    "cnf_matrix = confusion_matrix(y_test, y_pred)\n",
    "print('Confusion Matrix is:\\n', cnf_matrix)\n",
    "\n",
    "print('*'*90)\n",
    "acc = accuracy_score(y_test, y_pred)\n",
    "print('Accuracy Score is: ', acc)\n",
    "print('*'*90)\n",
    "\n",
    "clf_report = classification_report(y_test, y_pred)\n",
    "print('\\nClassification Report is :\\n', clf_report)"
   ]
  },
  {
   "cell_type": "code",
   "execution_count": 17,
   "metadata": {
    "scrolled": true
   },
   "outputs": [
    {
     "data": {
      "text/plain": [
       "array([0, 0, 0, 0, 0, 0, 0, 0, 1, 0, 0, 0, 1, 0, 0, 0, 0, 0, 0, 1, 1, 0,\n",
       "       0, 0, 0, 0, 0, 0, 0, 0, 0, 0, 0, 0, 1, 1, 0, 1, 0, 0, 0, 1, 0, 0,\n",
       "       0, 0, 0, 0, 1, 1, 0, 0, 1, 0, 0, 0, 0, 0, 1, 1, 0, 0, 0, 0, 1, 0,\n",
       "       0, 1, 0, 0, 1, 0, 0, 0, 1, 0, 1, 0, 0, 1, 0, 1, 1, 1, 0, 1, 0, 0,\n",
       "       1, 0, 1, 0, 0, 0, 0, 0, 0, 0, 1, 0, 0, 0, 0, 1, 0, 1, 1, 0, 0, 1,\n",
       "       0, 0, 0, 0, 1, 1, 0, 0, 1, 1, 0, 0, 0, 0, 0, 1, 0, 0, 1, 1, 1, 0,\n",
       "       0, 0, 0, 0, 1, 0, 0, 1, 0, 0, 0, 0, 0, 0, 0, 0, 0, 0, 1, 0, 1, 0],\n",
       "      dtype=int64)"
      ]
     },
     "execution_count": 17,
     "metadata": {},
     "output_type": "execute_result"
    }
   ],
   "source": [
    "y_pred"
   ]
  },
  {
   "cell_type": "code",
   "execution_count": 18,
   "metadata": {},
   "outputs": [
    {
     "data": {
      "text/plain": [
       "array([[0.9288057 , 0.0711943 ],\n",
       "       [0.80820816, 0.19179184],\n",
       "       [0.94377858, 0.05622142],\n",
       "       [0.62022117, 0.37977883],\n",
       "       [0.70770992, 0.29229008],\n",
       "       [0.67799044, 0.32200956],\n",
       "       [0.95961435, 0.04038565],\n",
       "       [0.87336718, 0.12663282],\n",
       "       [0.17934342, 0.82065658],\n",
       "       [0.93034378, 0.06965622],\n",
       "       [0.78901138, 0.21098862],\n",
       "       [0.92781119, 0.07218881],\n",
       "       [0.42841698, 0.57158302],\n",
       "       [0.96433098, 0.03566902],\n",
       "       [0.94717873, 0.05282127],\n",
       "       [0.71535569, 0.28464431],\n",
       "       [0.74347304, 0.25652696],\n",
       "       [0.58068304, 0.41931696],\n",
       "       [0.83809462, 0.16190538],\n",
       "       [0.34252201, 0.65747799],\n",
       "       [0.14754468, 0.85245532],\n",
       "       [0.87542273, 0.12457727],\n",
       "       [0.66601797, 0.33398203],\n",
       "       [0.89848676, 0.10151324],\n",
       "       [0.8539331 , 0.1460669 ],\n",
       "       [0.72440243, 0.27559757],\n",
       "       [0.63433867, 0.36566133],\n",
       "       [0.88735089, 0.11264911],\n",
       "       [0.9582217 , 0.0417783 ],\n",
       "       [0.88038289, 0.11961711],\n",
       "       [0.56693845, 0.43306155],\n",
       "       [0.99528282, 0.00471718],\n",
       "       [0.93854221, 0.06145779],\n",
       "       [0.74933621, 0.25066379],\n",
       "       [0.21421288, 0.78578712],\n",
       "       [0.2965091 , 0.7034909 ],\n",
       "       [0.72781758, 0.27218242],\n",
       "       [0.21534617, 0.78465383],\n",
       "       [0.81999   , 0.18001   ],\n",
       "       [0.81673202, 0.18326798],\n",
       "       [0.90904203, 0.09095797],\n",
       "       [0.13333145, 0.86666855],\n",
       "       [0.88724259, 0.11275741],\n",
       "       [0.55029858, 0.44970142],\n",
       "       [0.75847881, 0.24152119],\n",
       "       [0.75563121, 0.24436879],\n",
       "       [0.85225684, 0.14774316],\n",
       "       [0.90834002, 0.09165998],\n",
       "       [0.40532832, 0.59467168],\n",
       "       [0.11952972, 0.88047028],\n",
       "       [0.94334128, 0.05665872],\n",
       "       [0.78745059, 0.21254941],\n",
       "       [0.37150477, 0.62849523],\n",
       "       [0.54818858, 0.45181142],\n",
       "       [0.78174779, 0.21825221],\n",
       "       [0.70199944, 0.29800056],\n",
       "       [0.81722174, 0.18277826],\n",
       "       [0.95876296, 0.04123704],\n",
       "       [0.35494509, 0.64505491],\n",
       "       [0.24919944, 0.75080056],\n",
       "       [0.93045763, 0.06954237],\n",
       "       [0.82064107, 0.17935893],\n",
       "       [0.956781  , 0.043219  ],\n",
       "       [0.88957956, 0.11042044],\n",
       "       [0.02658034, 0.97341966],\n",
       "       [0.8890634 , 0.1109366 ],\n",
       "       [0.99727878, 0.00272122],\n",
       "       [0.2357387 , 0.7642613 ],\n",
       "       [0.73414587, 0.26585413],\n",
       "       [0.5120274 , 0.4879726 ],\n",
       "       [0.43658798, 0.56341202],\n",
       "       [0.96816593, 0.03183407],\n",
       "       [0.67196138, 0.32803862],\n",
       "       [0.67265437, 0.32734563],\n",
       "       [0.34844449, 0.65155551],\n",
       "       [0.76822159, 0.23177841],\n",
       "       [0.22085819, 0.77914181],\n",
       "       [0.50468288, 0.49531712],\n",
       "       [0.7139079 , 0.2860921 ],\n",
       "       [0.49344564, 0.50655436],\n",
       "       [0.6597598 , 0.3402402 ],\n",
       "       [0.33011818, 0.66988182],\n",
       "       [0.45974617, 0.54025383],\n",
       "       [0.29092503, 0.70907497],\n",
       "       [0.57191278, 0.42808722],\n",
       "       [0.38461652, 0.61538348],\n",
       "       [0.71876504, 0.28123496],\n",
       "       [0.56226892, 0.43773108],\n",
       "       [0.1273941 , 0.8726059 ],\n",
       "       [0.82243527, 0.17756473],\n",
       "       [0.35631566, 0.64368434],\n",
       "       [0.91617172, 0.08382828],\n",
       "       [0.77171643, 0.22828357],\n",
       "       [0.65692303, 0.34307697],\n",
       "       [0.83984704, 0.16015296],\n",
       "       [0.71648606, 0.28351394],\n",
       "       [0.88383457, 0.11616543],\n",
       "       [0.97823858, 0.02176142],\n",
       "       [0.32639877, 0.67360123],\n",
       "       [0.72286092, 0.27713908],\n",
       "       [0.77152729, 0.22847271],\n",
       "       [0.91105782, 0.08894218],\n",
       "       [0.56052991, 0.43947009],\n",
       "       [0.17954159, 0.82045841],\n",
       "       [0.66741075, 0.33258925],\n",
       "       [0.49646669, 0.50353331],\n",
       "       [0.32112664, 0.67887336],\n",
       "       [0.90760937, 0.09239063],\n",
       "       [0.87125053, 0.12874947],\n",
       "       [0.05845163, 0.94154837],\n",
       "       [0.61409786, 0.38590214],\n",
       "       [0.83463682, 0.16536318],\n",
       "       [0.86740344, 0.13259656],\n",
       "       [0.72847196, 0.27152804],\n",
       "       [0.21088053, 0.78911947],\n",
       "       [0.19870203, 0.80129797],\n",
       "       [0.51909422, 0.48090578],\n",
       "       [0.90084854, 0.09915146],\n",
       "       [0.21468869, 0.78531131],\n",
       "       [0.36407152, 0.63592848],\n",
       "       [0.65423198, 0.34576802],\n",
       "       [0.99086442, 0.00913558],\n",
       "       [0.88233444, 0.11766556],\n",
       "       [0.72686339, 0.27313661],\n",
       "       [0.81987619, 0.18012381],\n",
       "       [0.25930119, 0.74069881],\n",
       "       [0.86423542, 0.13576458],\n",
       "       [0.93226325, 0.06773675],\n",
       "       [0.38564689, 0.61435311],\n",
       "       [0.40804903, 0.59195097],\n",
       "       [0.20634407, 0.79365593],\n",
       "       [0.83159034, 0.16840966],\n",
       "       [0.93223938, 0.06776062],\n",
       "       [0.84854246, 0.15145754],\n",
       "       [0.93219895, 0.06780105],\n",
       "       [0.71296721, 0.28703279],\n",
       "       [0.26756852, 0.73243148],\n",
       "       [0.89734775, 0.10265225],\n",
       "       [0.90880133, 0.09119867],\n",
       "       [0.4590892 , 0.5409108 ],\n",
       "       [0.96539338, 0.03460662],\n",
       "       [0.8935004 , 0.1064996 ],\n",
       "       [0.83708495, 0.16291505],\n",
       "       [0.89193096, 0.10806904],\n",
       "       [0.61336776, 0.38663224],\n",
       "       [0.81345172, 0.18654828],\n",
       "       [0.94102825, 0.05897175],\n",
       "       [0.68307308, 0.31692692],\n",
       "       [0.61469819, 0.38530181],\n",
       "       [0.83715865, 0.16284135],\n",
       "       [0.22561536, 0.77438464],\n",
       "       [0.87894414, 0.12105586],\n",
       "       [0.46564203, 0.53435797],\n",
       "       [0.92999905, 0.07000095]])"
      ]
     },
     "execution_count": 18,
     "metadata": {},
     "output_type": "execute_result"
    }
   ],
   "source": [
    "y_pred_prob = lg_model.predict_proba(x_test)\n",
    "y_pred_prob    "
   ]
  },
  {
   "cell_type": "raw",
   "metadata": {},
   "source": [
    "       [0.88331146, 0.11668854], >> 0\n",
    "       [0.56476371, 0.43523629], >> 0\n",
    "       [0.88033225, 0.11966775], >> 0\n",
    "       [0.13173316, 0.86826684], >> 1\n",
    "       [0.82695107, 0.17304893], >> 0"
   ]
  },
  {
   "cell_type": "code",
   "execution_count": 20,
   "metadata": {},
   "outputs": [
    {
     "name": "stdout",
     "output_type": "stream",
     "text": [
      "Confusion Matrix is:\n",
      " [[359  41]\n",
      " [ 87 127]]\n",
      "******************************************************************************************\n",
      "Accuracy Score is:  0.7915309446254072\n",
      "******************************************************************************************\n",
      "\n",
      "Classification Report is :\n",
      "               precision    recall  f1-score   support\n",
      "\n",
      "           0       0.80      0.90      0.85       400\n",
      "           1       0.76      0.59      0.66       214\n",
      "\n",
      "    accuracy                           0.79       614\n",
      "   macro avg       0.78      0.75      0.76       614\n",
      "weighted avg       0.79      0.79      0.78       614\n",
      "\n"
     ]
    }
   ],
   "source": [
    "# Evaluation for training\n",
    "y_pred_train = lg_model.predict(x_train)\n",
    "\n",
    "cnf_matrix = confusion_matrix(y_train,y_pred_train)\n",
    "print('Confusion Matrix is:\\n', cnf_matrix)\n",
    "\n",
    "print('*'*90)\n",
    "acc = accuracy_score(y_train,y_pred_train)\n",
    "print('Accuracy Score is: ', acc)\n",
    "print('*'*90)\n",
    "\n",
    "clf_report = classification_report(y_train,y_pred_train)\n",
    "print('\\nClassification Report is :\\n', clf_report)"
   ]
  },
  {
   "cell_type": "code",
   "execution_count": 22,
   "metadata": {},
   "outputs": [],
   "source": [
    "# y_pred_prob[:,1]"
   ]
  },
  {
   "cell_type": "code",
   "execution_count": 44,
   "metadata": {},
   "outputs": [
    {
     "data": {
      "text/plain": [
       "array([[0.68127273, 0.31872727],\n",
       "       [0.18556568, 0.81443432],\n",
       "       [0.86075534, 0.13924466],\n",
       "       ...,\n",
       "       [0.44005473, 0.55994527],\n",
       "       [0.52849612, 0.47150388],\n",
       "       [0.03185441, 0.96814559]])"
      ]
     },
     "execution_count": 44,
     "metadata": {},
     "output_type": "execute_result"
    }
   ],
   "source": [
    "y_pred_train_prob = lg_model.predict_proba(x_train)\n",
    "y_pred_train_prob"
   ]
  },
  {
   "cell_type": "code",
   "execution_count": 47,
   "metadata": {},
   "outputs": [
    {
     "data": {
      "text/plain": [
       "(614,)"
      ]
     },
     "execution_count": 47,
     "metadata": {},
     "output_type": "execute_result"
    }
   ],
   "source": [
    "y_pred_train_prob[:,1].shape"
   ]
  },
  {
   "cell_type": "code",
   "execution_count": 63,
   "metadata": {},
   "outputs": [
    {
     "data": {
      "text/plain": [
       "(189,)"
      ]
     },
     "execution_count": 63,
     "metadata": {},
     "output_type": "execute_result"
    }
   ],
   "source": [
    "fpr, tpr,_= roc_curve(y_train,y_pred_train_prob[:,1])\n",
    "thresh.shape"
   ]
  },
  {
   "cell_type": "code",
   "execution_count": 67,
   "metadata": {},
   "outputs": [
    {
     "data": {
      "text/plain": [
       "0.8354789719626168"
      ]
     },
     "execution_count": 67,
     "metadata": {},
     "output_type": "execute_result"
    }
   ],
   "source": [
    "roc_auc_score(y_train,y_pred_train_prob[:,1])"
   ]
  },
  {
   "cell_type": "code",
   "execution_count": 68,
   "metadata": {},
   "outputs": [
    {
     "data": {
      "text/plain": [
       "0.8354789719626168"
      ]
     },
     "execution_count": 68,
     "metadata": {},
     "output_type": "execute_result"
    }
   ],
   "source": [
    "auc(fpr,tpr)"
   ]
  },
  {
   "cell_type": "code",
   "execution_count": 64,
   "metadata": {},
   "outputs": [
    {
     "data": {
      "text/plain": [
       "Text(0.5, 1.0, 'Receiver Operating Characteristic Curve')"
      ]
     },
     "execution_count": 64,
     "metadata": {},
     "output_type": "execute_result"
    },
    {
     "data": {
      "image/png": "[encoded data removed]",
      "text/plain": [
       "<Figure size 432x288 with 1 Axes>"
      ]
     },
     "metadata": {
      "needs_background": "light"
     },
     "output_type": "display_data"
    }
   ],
   "source": [
    "plt.plot(fpr,tpr)\n",
    "plt.xlabel('False Positive Rate')\n",
    "plt.ylabel('True Positive Rate')\n",
    "plt.title('Receiver Operating Characteristic Curve')"
   ]
  },
  {
   "cell_type": "code",
   "execution_count": null,
   "metadata": {},
   "outputs": [],
   "source": []
  }
 ],
 "metadata": {
  "kernelspec": {
   "display_name": "Python 3 (ipykernel)",
   "language": "python",
   "name": "python3"
  },
  "language_info": {
   "codemirror_mode": {
    "name": "ipython",
    "version": 3
   },
   "file_extension": ".py",
   "mimetype": "text/x-python",
   "name": "python",
   "nbconvert_exporter": "python",
   "pygments_lexer": "ipython3",
   "version": "3.9.12"
  }
 },
 "nbformat": 4,
 "nbformat_minor": 4
}
